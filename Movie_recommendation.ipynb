{
  "nbformat": 4,
  "nbformat_minor": 0,
  "metadata": {
    "colab": {
      "name": "Movie_recommendation.ipynb",
      "version": "0.3.2",
      "provenance": [],
      "collapsed_sections": [],
      "toc_visible": true,
      "include_colab_link": true
    },
    "kernelspec": {
      "name": "python3",
      "display_name": "Python 3"
    },
    "accelerator": "GPU"
  },
  "cells": [
    {
      "cell_type": "markdown",
      "metadata": {
        "id": "view-in-github",
        "colab_type": "text"
      },
      "source": [
        "<a href=\"https://colab.research.google.com/github/jia-xiaof/hello-word/blob/master/Movie_recommendation.ipynb\" target=\"_parent\"><img src=\"https://colab.research.google.com/assets/colab-badge.svg\" alt=\"Open In Colab\"/></a>"
      ]
    },
    {
      "cell_type": "markdown",
      "metadata": {
        "colab_type": "text",
        "id": "eikfzi8ZT_rW"
      },
      "source": [
        "#Movie recommendation"
      ]
    },
    {
      "cell_type": "markdown",
      "metadata": {
        "id": "wpNyKZb2fxru",
        "colab_type": "text"
      },
      "source": [
        "# 1M数据集也从官网wget"
      ]
    },
    {
      "cell_type": "code",
      "metadata": {
        "id": "A1gBMPM8MGnn",
        "colab_type": "code",
        "outputId": "5c4b4196-ea57-453f-f8fd-0a7668e8539c",
        "colab": {
          "base_uri": "https://localhost:8080/",
          "height": 215
        }
      },
      "source": [
        "!wget http://files.grouplens.org/datasets/movielens/ml-1m.zip"
      ],
      "execution_count": 0,
      "outputs": [
        {
          "output_type": "stream",
          "text": [
            "--2019-01-06 08:29:05--  http://files.grouplens.org/datasets/movielens/ml-1m.zip\n",
            "Resolving files.grouplens.org (files.grouplens.org)... 128.101.34.235\n",
            "Connecting to files.grouplens.org (files.grouplens.org)|128.101.34.235|:80... connected.\n",
            "HTTP request sent, awaiting response... 200 OK\n",
            "Length: 5917549 (5.6M) [application/zip]\n",
            "Saving to: ‘ml-1m.zip.1’\n",
            "\n",
            "ml-1m.zip.1         100%[===================>]   5.64M  4.13MB/s    in 1.4s    \n",
            "\n",
            "2019-01-06 08:29:07 (4.13 MB/s) - ‘ml-1m.zip.1’ saved [5917549/5917549]\n",
            "\n"
          ],
          "name": "stdout"
        }
      ]
    },
    {
      "cell_type": "code",
      "metadata": {
        "id": "ZtOqGFk2gUae",
        "colab_type": "code",
        "colab": {}
      },
      "source": [
        "!unzip ml-1m.zip"
      ],
      "execution_count": 0,
      "outputs": []
    },
    {
      "cell_type": "markdown",
      "metadata": {
        "id": "hF_pygbTexIP",
        "colab_type": "text"
      },
      "source": [
        "# 10M数据集直接从官网wget,很快"
      ]
    },
    {
      "cell_type": "code",
      "metadata": {
        "id": "xWje-kz5bp_s",
        "colab_type": "code",
        "colab": {}
      },
      "source": [
        "!wget http://files.grouplens.org/datasets/movielens/ml-10m.zip"
      ],
      "execution_count": 0,
      "outputs": []
    },
    {
      "cell_type": "code",
      "metadata": {
        "id": "sYUl3bGBzPPi",
        "colab_type": "code",
        "colab": {}
      },
      "source": [
        "!unzip ml-10m.zip"
      ],
      "execution_count": 0,
      "outputs": []
    },
    {
      "cell_type": "code",
      "metadata": {
        "id": "llDWVsxUgkUu",
        "colab_type": "code",
        "colab": {}
      },
      "source": [
        "ll"
      ],
      "execution_count": 0,
      "outputs": []
    },
    {
      "cell_type": "code",
      "metadata": {
        "id": "JuVSK6VFcPKG",
        "colab_type": "code",
        "colab": {}
      },
      "source": [
        "ll ml-10M100K/\n"
      ],
      "execution_count": 0,
      "outputs": []
    },
    {
      "cell_type": "code",
      "metadata": {
        "id": "niD4K5hTzC56",
        "colab_type": "code",
        "colab": {}
      },
      "source": [
        "import pandas as pd\n",
        "from sklearn.model_selection import train_test_split\n",
        "\n",
        "header = ['user_id', 'movie_id', 'rating', 'timestamp']\n",
        "#dataset = pd.read_csv('u.data', sep='\\t',  engine='python')  # ML-100K数据集\n",
        "dataset = pd.read_csv('ml-1m/ratings.dat', sep='::', engine='python',names=header)  # ML-1M数据集\n",
        "#dataset = pd.read_csv('ml-10M100K/ratings.dat', sep='::', engine='python',names=header)  # ML-10M数据集\n",
        "print(dataset.head())\n",
        "train, valbase = train_test_split(dataset, test_size=0.2, random_state=42)\n",
        "val, test = train_test_split(valbase, test_size=0.5, random_state=42)\n",
        "\n",
        "n_users = len(dataset.user_id.unique())\n",
        "n_movies = len(dataset.movie_id.unique())\n",
        "\n",
        "from keras.layers import Input, Embedding, Flatten, Dot, Dense, Dropout\n",
        "from keras.models import Model\n",
        "from keras import regularizers, optimizers\n",
        "from keras import backend as K\n",
        "from keras.callbacks import TensorBoard\n",
        "\n",
        "k = 128\n",
        "movie_input = Input(shape=[1], name=\"Movie-Input\")\n",
        "movie_embedding = Embedding(n_movies + 1, k, name=\"Movie-Embedding\")(movie_input)\n",
        "movie_vec0 = Flatten(name=\"Flatten-Movies\")(movie_embedding)\n",
        "movie_vec = Dense(k,  kernel_regularizer=regularizers.l2(0.01), bias_regularizer=regularizers.l2(0.01), activation='relu')(movie_vec0)\n",
        "#movie_vec = Dropout(0.2)(movie_vec1)\n",
        "\n",
        "\n",
        "user_input = Input(shape=[1], name=\"User-Input\")\n",
        "user_embedding = Embedding(n_users+1, k, name=\"User-Embedding\")(user_input)\n",
        "user_vec0 = Flatten(name=\"Flatten-Users\")(user_embedding)\n",
        "user_vec = Dense(k,  kernel_regularizer=regularizers.l2(0.01), bias_regularizer=regularizers.l2(0.01), activation='relu')(user_vec0)\n",
        "#user_vec = Dropout(0.2)(user_vec1)\n",
        "\n",
        "x = Dot(name=\"Dot-Product\", axes=1)([movie_vec, user_vec])\n",
        "#x = Dense(64, kernel_regularizer=regularizers.l2(0.01), bias_regularizer=regularizers.l2(0.01), activation='relu')(x)\n",
        "#x = Dense(64, activation='relu')(x)\n",
        "#x = Dropout(0.2)(x)\n",
        "#prod = Dense(1, activation='linear')(x)\n",
        "\n",
        "def mymse(y_true, y_pred):\n",
        "    loss1 = K.mean((y_true-y_pred)**2, -1)\n",
        "    loss2 = 0.0001 * K.mean(user_vec ** 2 + movie_vec ** 2, -1)\n",
        "    return loss1 + loss2\n",
        "\n",
        "model = Model([user_input, movie_input], x)\n",
        "# model.compile('adam', 'mean_squared_error')\n",
        "#model.compile(optimizer=optimizers.adam(0.001), loss='mean_squared_error')\n",
        "model.compile(optimizer=optimizers.adam(0.001), loss=mymse)\n",
        "\n",
        "model.fit([train.user_id, train.movie_id], train.rating,\n",
        "          validation_data=([val.user_id, val.movie_id], val.rating),\n",
        "          #callbacks=[TensorBoard(log_dir='./movie_log')], #用TensorBoard可视化训练过程\n",
        "          epochs=600, batch_size=3000)\n",
        "model.save('mymovie-recommend.h5')\n"
      ],
      "execution_count": 0,
      "outputs": []
    },
    {
      "cell_type": "code",
      "metadata": {
        "id": "hkASr5Wjhd0O",
        "colab_type": "code",
        "colab": {
          "base_uri": "https://localhost:8080/",
          "height": 86
        },
        "outputId": "9c2a96fa-496e-41a4-8448-2e627d98be2f"
      },
      "source": [
        "!git clone https://github.com/wxs/keras-mnist-tutorial.git 'TerenceDrive/Colab Notebooks/keras-mnist-tutorial'"
      ],
      "execution_count": 7,
      "outputs": [
        {
          "output_type": "stream",
          "text": [
            "Cloning into 'TerenceDrive/Colab Notebooks/keras-mnist-tutorial'...\n",
            "remote: Enumerating objects: 26, done.\u001b[K\n",
            "remote: Total 26 (delta 0), reused 0 (delta 0), pack-reused 26\u001b[K\n",
            "Unpacking objects: 100% (26/26), done.\n"
          ],
          "name": "stdout"
        }
      ]
    },
    {
      "cell_type": "code",
      "metadata": {
        "id": "qf6Tif0nO6uX",
        "colab_type": "code",
        "colab": {}
      },
      "source": [
        "显示硬件环境"
      ],
      "execution_count": 0,
      "outputs": []
    },
    {
      "cell_type": "code",
      "metadata": {
        "id": "q-Wllx8dPEJz",
        "colab_type": "code",
        "colab": {}
      },
      "source": [
        "from tensorflow.python.client import device_lib \n",
        "device_lib.list_local_devices()"
      ],
      "execution_count": 0,
      "outputs": []
    },
    {
      "cell_type": "markdown",
      "metadata": {
        "id": "uF92cO0EQBnK",
        "colab_type": "text"
      },
      "source": [
        "显示内存信息"
      ]
    },
    {
      "cell_type": "code",
      "metadata": {
        "id": "e-4BkPJXQFrL",
        "colab_type": "code",
        "colab": {
          "base_uri": "https://localhost:8080/",
          "height": 35
        },
        "outputId": "bca59e98-9d08-4431-da66-2b84f11d2c77"
      },
      "source": [
        "!cat /proc/meminfo "
      ],
      "execution_count": 2,
      "outputs": [
        {
          "output_type": "stream",
          "text": [
            "cat: /proc/meminfo : No such file or directory\n"
          ],
          "name": "stdout"
        }
      ]
    },
    {
      "cell_type": "markdown",
      "metadata": {
        "id": "KGc_2hx-QRKn",
        "colab_type": "text"
      },
      "source": [
        "显示CPU信息"
      ]
    },
    {
      "cell_type": "code",
      "metadata": {
        "id": "2L8KqiZ5QQZc",
        "colab_type": "code",
        "colab": {}
      },
      "source": [
        "!cat /proc/cpuinfo"
      ],
      "execution_count": 0,
      "outputs": []
    },
    {
      "cell_type": "markdown",
      "metadata": {
        "id": "cpc1KRBdRgEJ",
        "colab_type": "text"
      },
      "source": [
        "显示版本"
      ]
    },
    {
      "cell_type": "code",
      "metadata": {
        "id": "NBgW1i15RfkU",
        "colab_type": "code",
        "colab": {
          "base_uri": "https://localhost:8080/",
          "height": 55
        },
        "outputId": "17ab905f-97bd-4069-8882-991e4bb9c0d1"
      },
      "source": [
        "!cat /proc/version"
      ],
      "execution_count": 4,
      "outputs": [
        {
          "output_type": "stream",
          "text": [
            "Linux version 4.14.79+ (chrome-bot@swarm-cros-634) (gcc version 4.9.x 20150123 (prerelease) (4.9.2_cos_gg_4.9.2-r193-ac6128e0a17a52f011797f33ac3e7d6273a9368d_4.9.2-r193)) #1 SMP Wed Dec 19 21:19:13 PST 2018\n"
          ],
          "name": "stdout"
        }
      ]
    },
    {
      "cell_type": "markdown",
      "metadata": {
        "id": "wLE3abdqR1w9",
        "colab_type": "text"
      },
      "source": [
        "显示设备："
      ]
    },
    {
      "cell_type": "code",
      "metadata": {
        "id": "HzjnQL_uR55q",
        "colab_type": "code",
        "colab": {}
      },
      "source": [
        "!cat /proc/devices"
      ],
      "execution_count": 0,
      "outputs": []
    },
    {
      "cell_type": "markdown",
      "metadata": {
        "id": "foi2LqzVSO2B",
        "colab_type": "text"
      },
      "source": [
        "显示空间"
      ]
    },
    {
      "cell_type": "code",
      "metadata": {
        "id": "UNax73iESQm3",
        "colab_type": "code",
        "colab": {}
      },
      "source": [
        "!df"
      ],
      "execution_count": 0,
      "outputs": []
    },
    {
      "cell_type": "code",
      "metadata": {
        "id": "glNTCP3HNxsi",
        "colab_type": "code",
        "colab": {}
      },
      "source": [
        "!tensorboard --logdir='./log'"
      ],
      "execution_count": 0,
      "outputs": []
    },
    {
      "cell_type": "code",
      "metadata": {
        "id": "XenLLmziuWN9",
        "colab_type": "code",
        "colab": {}
      },
      "source": [
        ""
      ],
      "execution_count": 0,
      "outputs": []
    },
    {
      "cell_type": "code",
      "metadata": {
        "id": "58emAy9Pp7il",
        "colab_type": "code",
        "colab": {}
      },
      "source": [
        "from tensorflow.python.keras.models import load_model\n",
        "model = load_model('mymovie-recommend.h5')\n",
        "#model.evaluate([test.user_id, test.book_id], test.rating, batch_size=10000)\n",
        "#model.fit([train.user_id, train.book_id], train.rating, validation_data=([test.user_id, test.book_id], test.rating), epochs=500, initial_epoch=200, batch_size=3000)\n",
        "model.fit([train.user_id, train.movie_id], train.rating,\n",
        "          validation_data=([val.user_id, val.movie_id], val.rating),\n",
        "          #callbacks=[TensorBoard(log_dir='./movie_log')], #用TensorBoard可视化训练过程\n",
        "          epochs=500, initial_epoch=200, batch_size=3000) \n",
        "model.save('mymovie-recommend.h5')"
      ],
      "execution_count": 0,
      "outputs": []
    }
  ]
}